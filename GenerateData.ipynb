{
 "cells": [
  {
   "cell_type": "code",
   "execution_count": 1,
   "metadata": {},
   "outputs": [],
   "source": [
    "from faker import Faker\n",
    "from faker.providers import BaseProvider"
   ]
  },
  {
   "cell_type": "code",
   "execution_count": 2,
   "metadata": {},
   "outputs": [],
   "source": [
    "import pandas as pd\n",
    "import numpy as np"
   ]
  },
  {
   "cell_type": "code",
   "execution_count": 3,
   "metadata": {},
   "outputs": [],
   "source": [
    "from os import path\n",
    "from random import randint, randrange, choice"
   ]
  },
  {
   "cell_type": "code",
   "execution_count": 35,
   "metadata": {},
   "outputs": [],
   "source": [
    "class Phone(BaseProvider):\n",
    "    def phone(self):\n",
    "        fmt = '1(code)number'\n",
    "        code_len = randint(2, 4)\n",
    "        code = [str(randint(0, 9)) for _ in range(code_len)]\n",
    "        code = ''.join(code)\n",
    "        number = [str(randint(0, 9)) for _ in range(7)]\n",
    "        number = ''.join(number)\n",
    "        return fmt.replace('code', code).replace('number', number)"
   ]
  },
  {
   "cell_type": "code",
   "execution_count": 36,
   "metadata": {},
   "outputs": [],
   "source": [
    "class PassportNumber(BaseProvider):\n",
    "    def passport(self):\n",
    "        fmt = 'series number'\n",
    "        series = [str(randint(0, 9)) for _ in range(4)]\n",
    "        series = ''.join(series)\n",
    "        number = [str(randint(0, 9)) for _ in range(6)]\n",
    "        number = ''.join(number)\n",
    "        return fmt.replace('series', series).replace('number', number)"
   ]
  },
  {
   "cell_type": "code",
   "execution_count": 49,
   "metadata": {},
   "outputs": [],
   "source": [
    "class Date(BaseProvider):\n",
    "    def date_(self, sy=2012):\n",
    "        fmt = '{}-{:0>2}-{:0>2}'\n",
    "        year = randint(sy, 2019)\n",
    "        month = randint(1, 12)\n",
    "        day = randint(1, 28 if month == 2 else 30)\n",
    "        return fmt.format(year, month, day)"
   ]
  },
  {
   "cell_type": "code",
   "execution_count": 50,
   "metadata": {},
   "outputs": [],
   "source": [
    "fake = Faker(['en_US'])\n",
    "fake.add_provider(Phone)\n",
    "fake.add_provider(PassportNumber)\n",
    "fake.add_provider(Date)"
   ]
  },
  {
   "cell_type": "code",
   "execution_count": 51,
   "metadata": {},
   "outputs": [],
   "source": [
    "def create_clients_table(count_of_entries: int) -> pd.DataFrame:\n",
    "    clients = pd.DataFrame(columns=['Name', 'PhoneNumber', 'PassportId', 'Address', 'NumberOfContracts', 'TaxNumber'])\n",
    "    clients['Name'] = np.array([fake.name() for _ in range(count_of_entries)])\n",
    "    clients['PhoneNumber'] = np.array([fake.phone() for _ in range(count_of_entries)])\n",
    "    clients['PassportId'] = np.array([fake.passport() for _ in range(count_of_entries)])\n",
    "    clients['Address'] = np.array([fake.address().replace('\\n', ' ').split(',')[0][:50] for _ in range(count_of_entries)])\n",
    "    clients['NumberOfContracts'] = np.zeros(count_of_entries, dtype=int)\n",
    "    clients['TaxNumber'] = np.array([12 + i for i in range(count_of_entries)])\n",
    "    return clients\n",
    "\n",
    "def create_agents_table(count_of_entries: int) -> pd.DataFrame:\n",
    "    agents = pd.DataFrame(columns=['Name', 'PhoneNumber', 'PassportId', 'Rate', 'NumberOfContracts'])\n",
    "    agents['Name'] = np.array([fake.name() for _ in range(count_of_entries)])\n",
    "    agents['PhoneNumber'] = np.array([fake.phone() for _ in range(count_of_entries)])\n",
    "    agents['PassportId'] = np.array([fake.passport() for _ in range(count_of_entries)])\n",
    "    agents['Rate'] = np.array([randrange(0, 300, 50) for _ in range(count_of_entries)])\n",
    "    agents['NumberOfContracts'] = np.zeros(count_of_entries, dtype=int)\n",
    "    return agents\n",
    "\n",
    "def create_departments_table(count_of_entries: int) -> pd.DataFrame:\n",
    "    deps = pd.DataFrame(columns=['Address', 'PhoneNumber', 'DepartmentTypeID', 'NumberOfEmploees'])\n",
    "    deps['Address'] = np.array([fake.address().replace('\\n', ' ').split(',')[0][:50] for _ in range(count_of_entries)])\n",
    "    deps['PhoneNumber'] = np.array([fake.phone() for _ in range(count_of_entries)])\n",
    "    deps['DepartmentTypeID'] = np.array([randint(2, 3) for _ in range(count_of_entries)])\n",
    "    deps['NumberOfEmploees'] = np.zeros(count_of_entries, dtype=int)\n",
    "    return deps\n",
    "\n",
    "def create_empcont_table(count_of_entries: int) -> pd.DataFrame:\n",
    "    def position(salary: int) -> int:\n",
    "        if salary >= 5000:\n",
    "            return 3\n",
    "        elif salary >= 4000:\n",
    "            return 2\n",
    "        elif salary >= 3000:\n",
    "            return 1\n",
    "        else:\n",
    "            return 4\n",
    "    \n",
    "    empconts = pd.DataFrame(\n",
    "        columns=['Number', 'AgentID', 'Salary', 'AgentPositionID', 'DepartmentID', 'StartDate', 'Status'])\n",
    "    empconts['Number'] = np.arange(7, 7 + count_of_entries, 1, dtype=int)\n",
    "    empconts['AgentID'] = np.arange(6, 6 + count_of_entries, 1, dtype=int)\n",
    "    empconts['Salary'] = np.array([randrange(2000, 6000, 500) for _ in range(count_of_entries)])\n",
    "    empconts['AgentPositionID'] = np.array([position(empconts['Salary'].values[i]) for i in range(count_of_entries)])\n",
    "    empconts['DepartmentID'] = np.array([randint(1, 13) for _ in range(count_of_entries)])\n",
    "    empconts['StartDate'] = np.array([fake.date_() for _ in range(count_of_entries)])\n",
    "    empconts['Status'] = np.zeros(count_of_entries, dtype=int)\n",
    "    return empconts\n",
    "\n",
    "def create_contracts_table(count_of_entries: int) -> pd.DataFrame:\n",
    "    def kind_by_obj(obj: int) -> int:\n",
    "        mapping = {2: (1, 3, 5), 3: (1, 3, 5), 5: (1, 3, 5), 6: (1, 3, 5), 1: (2, 4, 7), 4: (1, 6, 7)}\n",
    "        return mapping[obj]\n",
    "    \n",
    "    contracts = pd.DataFrame(columns=[\n",
    "        'ContractKindID', 'ContractObjectID', 'InsuranceInterest', 'InsuranceAmount', \n",
    "        'Date', 'ValidityPeriod', 'ContractStatusID', 'ClientID', 'AgentID'\n",
    "    ])\n",
    "    contracts['ContractObjectID'] = np.array([randint(1, 6) for _ in range(count_of_entries)])\n",
    "    contracts['ContractKindID'] = np.array(\n",
    "        [choice(kind_by_obj(contracts['ContractObjectID'].values[i])) for i in range(count_of_entries)]\n",
    "    )\n",
    "    contracts['InsuranceInterest'] = np.array([randint(2, 15) for _ in range(count_of_entries)])\n",
    "    contracts['InsuranceAmount'] = np.array([randrange(1500, 65000, 500) for _ in range(count_of_entries)])\n",
    "    contracts['Date'] = np.array([fake.date_(2018) for _ in range(count_of_entries)])\n",
    "    contracts['ValidityPeriod'] = np.array([randrange(24, 48, 12) for _ in range(count_of_entries)])\n",
    "    contracts['ContractStatusID'] = np.array([1 + int(randint(0, 1000) < 150) for _ in range(count_of_entries)])\n",
    "    contracts['ClientID'] = np.arange(11, 11 + count_of_entries, 1, dtype=int)\n",
    "    contracts['AgentID'] = np.array([randint(1, 55) for _ in range(count_of_entries)])\n",
    "    return contracts"
   ]
  },
  {
   "cell_type": "code",
   "execution_count": 52,
   "metadata": {},
   "outputs": [],
   "source": [
    "test_count = 1"
   ]
  },
  {
   "cell_type": "code",
   "execution_count": 53,
   "metadata": {},
   "outputs": [],
   "source": [
    "test_path_fmt = '.\\\\TablesExcel\\\\Test{}.csv'\n",
    "release_path_fmt = '.\\\\TablesExcel\\\\{}.csv'"
   ]
  },
  {
   "cell_type": "code",
   "execution_count": 54,
   "metadata": {},
   "outputs": [],
   "source": [
    "tables = {\n",
    "    'Client': (create_clients_table, 200),\n",
    "    'Agent': (create_agents_table, 50),\n",
    "    'Department': (create_departments_table, 10),\n",
    "    'EmploymentContract': (create_empcont_table, 50),\n",
    "    'Contract': (create_contracts_table, 201)\n",
    "}"
   ]
  },
  {
   "cell_type": "code",
   "execution_count": 55,
   "metadata": {},
   "outputs": [
    {
     "name": "stdout",
     "output_type": "stream",
     "text": [
      "Table Client written\n",
      "Table Agent written\n",
      "Table Department written\n",
      "Table EmploymentContract written\n",
      "Table Contract written\n"
     ]
    }
   ],
   "source": [
    "for name, (create, cnt) in tables.items():\n",
    "    test = create(test_count)\n",
    "    release = create(cnt)\n",
    "    \n",
    "    test.to_csv(path.expandvars(test_path_fmt.format(name)), index=False)\n",
    "    release.to_csv(path.expandvars(release_path_fmt.format(name)), index=False)\n",
    "    \n",
    "    print(f'Table {name} written')"
   ]
  },
  {
   "cell_type": "code",
   "execution_count": null,
   "metadata": {},
   "outputs": [],
   "source": []
  }
 ],
 "metadata": {
  "kernelspec": {
   "display_name": "Python 3",
   "language": "python",
   "name": "python3"
  },
  "language_info": {
   "codemirror_mode": {
    "name": "ipython",
    "version": 3
   },
   "file_extension": ".py",
   "mimetype": "text/x-python",
   "name": "python",
   "nbconvert_exporter": "python",
   "pygments_lexer": "ipython3",
   "version": "3.7.3"
  },
  "toc": {
   "base_numbering": 1,
   "nav_menu": {},
   "number_sections": true,
   "sideBar": false,
   "skip_h1_title": false,
   "title_cell": "Table of Contents",
   "title_sidebar": "Contents",
   "toc_cell": false,
   "toc_position": {},
   "toc_section_display": true,
   "toc_window_display": false
  }
 },
 "nbformat": 4,
 "nbformat_minor": 2
}
